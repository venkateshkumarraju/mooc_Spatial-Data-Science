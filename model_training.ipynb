{
 "cells": [
  {
   "cell_type": "markdown",
   "metadata": {},
   "source": [
    "# Train the model using the ArcGIS API for Python"
   ]
  },
  {
   "cell_type": "markdown",
   "metadata": {},
   "source": [
    "### Prepare training sample data"
   ]
  },
  {
   "cell_type": "markdown",
   "metadata": {},
   "source": [
    "After creating training sample data, you typically have to prepare this data by splitting it into training and validation sets, applying data augmentation techniques, and creating batches for computer memory management. The ArcGIS API `prepare_data` method can automate this entire process. It uses a default set of transformations to augment the training sample data. You can specify your own transformations or keep the defaults."
   ]
  },
  {
   "cell_type": "code",
   "execution_count": null,
   "metadata": {},
   "outputs": [],
   "source": [
    "# Import the required packages\n",
    "from arcgis.learn import SingleShotDetector, prepare_data"
   ]
  },
  {
   "cell_type": "code",
   "execution_count": null,
   "metadata": {},
   "outputs": [],
   "source": [
    "# Load the image chips into memory\n",
    "data_path = r'<Enter the path to the image chips that you created in ArcGIS Pro>' \n",
    "# data_path = r'C:\\Users\\Student\\Documents\\ObjectDetection\\ImageChips'\n",
    "\n",
    "# Run the prepare_data method, specifying the class value and name but leaving the default transformations\n",
    "data = prepare_data(data_path, {0:'Pool'})\n",
    "data.classes"
   ]
  },
  {
   "cell_type": "markdown",
   "metadata": {},
   "source": [
    "### Visualize the augmented training sample data\n",
    "The`.show_batch()` method will visualize the exported training samples and their labels after applying the data augmentation transformations."
   ]
  },
  {
   "cell_type": "code",
   "execution_count": null,
   "metadata": {},
   "outputs": [],
   "source": [
    "# Show a random sample of image chips\n",
    "data.show_batch()"
   ]
  },
  {
   "cell_type": "markdown",
   "metadata": {},
   "source": [
    "### Define the deep learning model architecture\n",
    "`arcgis.learn` includes deep learning models that use pretrained Convolutional Neural Networks (CNNs). You will use the Single-Shot Detector (SSD). SSD is one of the most advanced object detection algorithms and is based on a pretrained CNN. An SSD model architecture has been predefined in `arcgis.learn`. For more information about SSD and its integration into `arcgis.learn,` see ArcGIS API for Python Help: How single-shot detector (SSD) works? (https://developers.arcgis.com/python/guide/how-ssd-works/)."
   ]
  },
  {
   "cell_type": "code",
   "execution_count": null,
   "metadata": {},
   "outputs": [],
   "source": [
    "# Create the Single-Shot Detector model\n",
    "ssd = SingleShotDetector(data)"
   ]
  },
  {
   "cell_type": "markdown",
   "metadata": {},
   "source": [
    "### Find an optimal learning rate\n",
    "The learning rate controls the weighting adjustment of the neural network. A low learning rate trains the model slowly, while a high learning rate can jump to conclusions and learn the incorrect information. The ArcGIS Python API provides a learning rate finder that finds a rate where loss, or model error, is lowest before it starts to increase again, indicating that the learning rate is too high and introducing error into the model. "
   ]
  },
  {
   "cell_type": "code",
   "execution_count": null,
   "metadata": {},
   "outputs": [],
   "source": [
    "# Find the optimum learning rate using the learning rate finder\n",
    "ssd.lr_find()"
   ]
  },
  {
   "cell_type": "markdown",
   "metadata": {},
   "source": [
    "Based on the learning rate plot above, the loss decreases dramatically at 1e-3 (0.001), so you will use this rate for training."
   ]
  },
  {
   "cell_type": "code",
   "execution_count": null,
   "metadata": {},
   "outputs": [],
   "source": [
    "# Train the SSD model for 25 epochs, using a learning rate of 0.01\n",
    "ssd.fit(25, lr=1e-3)"
   ]
  },
  {
   "cell_type": "markdown",
   "metadata": {},
   "source": [
    "### Review the model\n",
    "Comparing the ground truth images with the predicted images will help you determine the accuracy of your model. "
   ]
  },
  {
   "cell_type": "code",
   "execution_count": null,
   "metadata": {
    "scrolled": false
   },
   "outputs": [],
   "source": [
    "# Display the results of the trained SSD model on a part of the validation set\n",
    "ssd.show_results()"
   ]
  },
  {
   "cell_type": "code",
   "execution_count": null,
   "metadata": {},
   "outputs": [],
   "source": [
    "# Plot the training and validation losses\n",
    "ssd.plot_losses()"
   ]
  },
  {
   "cell_type": "code",
   "execution_count": null,
   "metadata": {},
   "outputs": [],
   "source": [
    "# Print the average precision score of the model\n",
    "ssd.average_precision_score()"
   ]
  },
  {
   "cell_type": "markdown",
   "metadata": {},
   "source": [
    "This model provides a good baseline, predicting most of the pools identified in the ground truth. You could modify the parameters of this tool (number of epochs, grid cell size, and so on) to improve the results of the model. Because these modifications would require more processing time, you will proceed with this model.  \n",
    "\n",
    "### Save the model\n",
    "\n",
    "The .save below creates an Esri Model Definition (.emd) file, which contains the information required to run inferencing tools for detecting objects, classifying objects, or classifying pixels."
   ]
  },
  {
   "cell_type": "code",
   "execution_count": null,
   "metadata": {},
   "outputs": [],
   "source": [
    "# Save the model, which you can use as input to the Detect Objects Using Deep Learning tool in ArcGIS Pro\n",
    "ssd.save(r'<Enter the path to the directory of your choosing, and create a new folder name at the end of the path>',save_inference_file=True) # save it to a directory of your choosing\n",
    "\n",
    "\n",
    "# ssd.save(r'C:\\Users\\Student\\Documents\\ObjectDetection\\PoolsModel_25_SSD_Python',save_inference_file=True)"
   ]
  },
  {
   "cell_type": "markdown",
   "metadata": {},
   "source": [
    "### Perform inferencing (detect objects) in ArcGIS Pro\n",
    "\n",
    "You have now created your training sample data using ArcGIS API for Python. \n",
    "\n",
    "If you would like to use this trained model to detect objects, then you can go back and repeat the steps to detect objects in ArcGIS Pro, but you will now use this EMD file. To do this, return to ArcGIS Pro and use the Detect Objects Using Deep Learning tool to extract features from the imagery. You will repeat the Perform Inferencing Using The Model step in the PDF. Replace the PoolsModel_25_SSD.emd file with the .emd file that you just saved in this notebook.\n",
    "\n"
   ]
  }
 ],
 "metadata": {
  "kernelspec": {
   "display_name": "ArcGISPro",
   "language": "Python",
   "name": "python3"
  },
  "language_info": {
   "file_extension": ".py",
   "name": "python",
   "version": "3"
  },
  "toc": {
   "base_numbering": 1,
   "nav_menu": {},
   "number_sections": false,
   "sideBar": true,
   "skip_h1_title": true,
   "title_cell": "Table of Contents",
   "title_sidebar": "Contents",
   "toc_cell": true,
   "toc_position": {
    "height": "687px",
    "left": "427px",
    "top": "210px",
    "width": "336px"
   },
   "toc_section_display": true,
   "toc_window_display": true
  }
 },
 "nbformat": 4,
 "nbformat_minor": 2
}
